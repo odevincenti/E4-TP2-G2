{
 "cells": [
  {
   "cell_type": "code",
   "execution_count": 1,
   "metadata": {},
   "outputs": [],
   "source": [
    "import matplotlib.pyplot as plt\n",
    "from utils import *"
   ]
  },
  {
   "cell_type": "code",
   "execution_count": 2,
   "metadata": {},
   "outputs": [
    {
     "name": "stdout",
     "output_type": "stream",
     "text": [
      "1.0992158770836336e-08\n",
      "6.238181818181819e-08\n",
      "1.3724e-07\n",
      "1.0992158770836336e-08\n",
      "\n",
      "0.3404255319148936\n",
      "2.2160613572349088e-07\n"
     ]
    }
   ],
   "source": [
    "import numpy as np\n",
    "VDD = 300\n",
    "\n",
    "VGG = 16\n",
    "RG = 47\n",
    "IO = 0.2\n",
    "\n",
    "VGSth = 3\n",
    "# QT = 32.5e-9\n",
    "# Q1 = 6e-9\n",
    "Q2 = 14.6e-9\n",
    "# Q3 = 13.5e-9\n",
    "\n",
    "CissOFF = 1400e-12 # td(on)\n",
    "CissON = 2400e-12  # td(off)\n",
    "\n",
    "tau1 = RG*CissOFF\n",
    "tau2 = RG*CissON\n",
    "VGSIO = 5\n",
    "IGon = (VGG-VGSIO)/RG\n",
    "IGoff= (VGSIO)/RG\n",
    "\n",
    "tri = -tau1*np.log(1-(VGSIO-VGSth)/(VGG-VGSth))\n",
    "tfv = Q2/IGon\n",
    "\n",
    "trv = Q2/IGoff\n",
    "tfi = -tau1*np.log(1-(VGSIO-VGSth)/(VGG-VGSth))\n",
    "\n",
    "print(tri)\n",
    "print(tfv)\n",
    "print(trv)\n",
    "print(tfi)\n",
    "print('')\n",
    "print(VGG/RG)\n",
    "print(tri+tfv+trv+tfi)"
   ]
  },
  {
   "cell_type": "code",
   "execution_count": 3,
   "metadata": {},
   "outputs": [
    {
     "name": "stdout",
     "output_type": "stream",
     "text": [
      "0.4986138053778545\n",
      "1.3333333333333333e-05\n"
     ]
    }
   ],
   "source": [
    "f = 75e3\n",
    "P = (f/2)*((tri+tfv)*VDD*IO + (trv+tfi)*VDD*IO)\n",
    "\n",
    "print(P)\n",
    "print(1/f)"
   ]
  }
 ],
 "metadata": {
  "kernelspec": {
   "display_name": "Python 3",
   "language": "python",
   "name": "python3"
  },
  "language_info": {
   "codemirror_mode": {
    "name": "ipython",
    "version": 3
   },
   "file_extension": ".py",
   "mimetype": "text/x-python",
   "name": "python",
   "nbconvert_exporter": "python",
   "pygments_lexer": "ipython3",
   "version": "3.10.0"
  },
  "orig_nbformat": 4
 },
 "nbformat": 4,
 "nbformat_minor": 2
}
