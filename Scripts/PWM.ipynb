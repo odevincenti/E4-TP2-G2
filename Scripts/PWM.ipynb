{
 "cells": [
  {
   "attachments": {},
   "cell_type": "markdown",
   "metadata": {},
   "source": [
    "### Cálculos $C_T$ y $R_T$ para fijar $f_{sw}$\n",
    "\n",
    "$$f_{sw} = \\frac{1}{C_T \\cdot (0.7R_T + 3R_D)}$$\n",
    "\n",
    "Como no necesitamos deadtime $\\Rightarrow R_D = 0$\n",
    "\n",
    "Queremos $f_{sw} = 75 kHz$"
   ]
  },
  {
   "cell_type": "code",
   "execution_count": 2,
   "metadata": {},
   "outputs": [
    {
     "name": "stdout",
     "output_type": "stream",
     "text": [
      "Se encontraron 0 opciones\n",
      "Buscando con resistencias en paralelo\n",
      "\n"
     ]
    },
    {
     "ename": "IndexError",
     "evalue": "list index out of range",
     "output_type": "error",
     "traceback": [
      "\u001b[1;31m---------------------------------------------------------------------------\u001b[0m",
      "\u001b[1;31mIndexError\u001b[0m                                Traceback (most recent call last)",
      "Cell \u001b[1;32mIn[2], line 33\u001b[0m\n\u001b[0;32m     31\u001b[0m \u001b[39mfor\u001b[39;00m i \u001b[39min\u001b[39;00m \u001b[39mrange\u001b[39m(\u001b[39mlen\u001b[39m(R_values)):\n\u001b[0;32m     32\u001b[0m     \u001b[39mfor\u001b[39;00m j \u001b[39min\u001b[39;00m \u001b[39mrange\u001b[39m(i \u001b[39m+\u001b[39m \u001b[39m1\u001b[39m, \u001b[39mlen\u001b[39m(R_values)):\n\u001b[1;32m---> 33\u001b[0m         Rt \u001b[39m=\u001b[39m parallel(RT[i], RT[j])\n\u001b[0;32m     34\u001b[0m         \u001b[39mif\u001b[39;00m \u001b[39m2E3\u001b[39m \u001b[39m<\u001b[39m Rt \u001b[39m<\u001b[39m \u001b[39m150E3\u001b[39m: \n\u001b[0;32m     35\u001b[0m             f \u001b[39m=\u001b[39m \u001b[39m1\u001b[39m\u001b[39m/\u001b[39m(Ct\u001b[39m*\u001b[39m(\u001b[39m0.7\u001b[39m\u001b[39m*\u001b[39mRt \u001b[39m+\u001b[39m Rd\u001b[39m*\u001b[39m\u001b[39m3\u001b[39m))\n",
      "\u001b[1;31mIndexError\u001b[0m: list index out of range"
     ]
    }
   ],
   "source": [
    "from utils import C_values, R_values, to_unit, parallel\n",
    "\n",
    "fsw = 75E3\n",
    "Rd = 0\n",
    "\n",
    "tol = 0.01\n",
    "CT = []\n",
    "RT = []\n",
    "\n",
    "for Ct in C_values:\n",
    "    if 1E-9 < Ct < 200E-9:\n",
    "        for Rt in R_values:\n",
    "            if 2E3 < Rt < 150E3: \n",
    "                f = 1/(Ct*(0.7*Rt + Rd*3))\n",
    "                if fsw*(1-tol) < f < fsw*(1+tol):\n",
    "                    CT.append(Ct)\n",
    "                    RT.append(Rt)\n",
    "        \n",
    "print(f'Se encontraron {len(CT)} opciones')\n",
    "for i in range(len(CT)):\n",
    "    print('CT = ' + to_unit(CT[i]) + 'F con RT = ' + to_unit(RT[i]) + 'Ohm, resultando en fsw = ' + to_unit(1/(CT[i]*(0.7*RT[i] + Rd*3))))\n",
    "\n",
    "if len(CT) == 0:\n",
    "    print('Buscando con resistencias en paralelo\\n')\n",
    "\n",
    "    Rpar = []\n",
    "    for Ct in C_values:\n",
    "        if 1E-9 < Ct < 200E-9:\n",
    "            i = 0\n",
    "            j = 0\n",
    "            for i in range(len(R_values)):\n",
    "                for j in range(i, len(R_values)):\n",
    "                    Rt = parallel(RT[i], RT[j])\n",
    "                    if 2E3 < Rt < 150E3: \n",
    "                        f = 1/(Ct*(0.7*Rt + Rd*3))\n",
    "                        if fsw*(1-tol) < f < fsw*(1+tol):\n",
    "                            CT.append(Ct)\n",
    "                            RT.append((RT[i], RT[j]))\n",
    "\n",
    "print(f'Se encontraron {len(CT)} opciones')\n",
    "for i in range(len(CT)):\n",
    "    print('CT = ' + to_unit(CT[i]) + 'F con RT1 = ' + to_unit(RT[i][0]) + 'Ohm y RT2 = ' + to_unit(RT[i][0]) + 'Ohm, resultando en fsw = ' + to_unit(1/(CT[i]*(0.7*RT[i] + Rd*3))))"
   ]
  }
 ],
 "metadata": {
  "kernelspec": {
   "display_name": "venv",
   "language": "python",
   "name": "python3"
  },
  "language_info": {
   "codemirror_mode": {
    "name": "ipython",
    "version": 3
   },
   "file_extension": ".py",
   "mimetype": "text/x-python",
   "name": "python",
   "nbconvert_exporter": "python",
   "pygments_lexer": "ipython3",
   "version": "3.10.7"
  },
  "orig_nbformat": 4
 },
 "nbformat": 4,
 "nbformat_minor": 2
}
