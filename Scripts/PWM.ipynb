{
 "cells": [
  {
   "attachments": {},
   "cell_type": "markdown",
   "metadata": {},
   "source": [
    "### Cálculos $C_T$ y $R_T$ para fijar $f_{sw}$\n",
    "\n",
    "$$f_{sw} = \\frac{1}{C_T \\cdot (0.7R_T + 3R_D)}$$\n",
    "\n",
    "Como no necesitamos deadtime $\\Rightarrow R_D = 0$\n",
    "\n",
    "Queremos $f_{sw} = 75 kHz$"
   ]
  },
  {
   "cell_type": "code",
   "execution_count": 1,
   "metadata": {},
   "outputs": [
    {
     "name": "stdout",
     "output_type": "stream",
     "text": [
      "Se encontraron 0 opciones\n",
      "Buscando con resistencias en paralelo\n",
      "\n",
      "Se encontraron 5 opciones\n",
      "CT = 1.5nF con RT1 = 15kOhm y RT2 = 82kOhm, resultando en fsw = 75.1k\n",
      "CT = 3.3nF con RT1 = 6.2kOhm y RT2 = 82kOhm, resultando en fsw = 75.1k\n",
      "CT = 5.6nF con RT1 = 3.9kOhm y RT2 = 27kOhm, resultando en fsw = 74.9k\n",
      "CT = 6.8nF con RT1 = 3.9kOhm y RT2 = 10kOhm, resultando en fsw = 74.9k\n",
      "CT = 6.8nF con RT1 = 5.6kOhm y RT2 = 5.6kOhm, resultando en fsw = 75k\n"
     ]
    }
   ],
   "source": [
    "from utils import C_values, R_values, to_unit, parallel\n",
    "\n",
    "fsw = 75E3\n",
    "Rd = 0\n",
    "\n",
    "tol = 0.003\n",
    "CT = []\n",
    "RT = []\n",
    "\n",
    "for Ct in C_values:\n",
    "    if 1E-9 < Ct < 200E-9:\n",
    "        for Rt in R_values:\n",
    "            if 2E3 < Rt < 150E3: \n",
    "                f = 1/(Ct*(0.7*Rt + Rd*3))\n",
    "                if fsw*(1-tol) < f < fsw*(1+tol):\n",
    "                    CT.append(Ct)\n",
    "                    RT.append(Rt)\n",
    "        \n",
    "print(f'Se encontraron {len(CT)} opciones')\n",
    "for i in range(len(CT)):\n",
    "    print('CT = ' + to_unit(CT[i]) + 'F con RT = ' + to_unit(RT[i]) + 'Ohm, resultando en fsw = ' + to_unit(1/(CT[i]*(0.7*RT[i] + Rd*3))))\n",
    "\n",
    "if len(CT) == 0:\n",
    "    print('Buscando con resistencias en paralelo\\n')\n",
    "\n",
    "    Rpar = []\n",
    "    for Ct in C_values:\n",
    "        if 1E-9 < Ct < 200E-9:\n",
    "            i = 0\n",
    "            j = 0\n",
    "            for i in range(len(R_values)):\n",
    "                for j in range(i, len(R_values)):\n",
    "                    Rt = parallel(R_values[i], R_values[j])\n",
    "                    if 2E3 < Rt < 150E3: \n",
    "                        f = 1/(Ct*(0.7*Rt + Rd*3))\n",
    "                        if fsw*(1-tol) < f < fsw*(1+tol):\n",
    "                            CT.append(Ct)\n",
    "                            RT.append((R_values[i], R_values[j]))\n",
    "\n",
    "print(f'Se encontraron {len(CT)} opciones')\n",
    "for i in range(len(CT)):\n",
    "    print('CT = ' + to_unit(CT[i]) + 'F con RT1 = ' + to_unit(RT[i][0]) + 'Ohm y RT2 = ' + to_unit(RT[i][1]) + 'Ohm, resultando en fsw = ' + to_unit(1/(CT[i]*(0.7*parallel(RT[i][0], RT[i][1]) + Rd*3))))"
   ]
  }
 ],
 "metadata": {
  "kernelspec": {
   "display_name": "venv",
   "language": "python",
   "name": "python3"
  },
  "language_info": {
   "codemirror_mode": {
    "name": "ipython",
    "version": 3
   },
   "file_extension": ".py",
   "mimetype": "text/x-python",
   "name": "python",
   "nbconvert_exporter": "python",
   "pygments_lexer": "ipython3",
   "version": "3.10.7"
  },
  "orig_nbformat": 4
 },
 "nbformat": 4,
 "nbformat_minor": 2
}
