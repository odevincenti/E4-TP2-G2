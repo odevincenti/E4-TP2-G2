{
 "cells": [
  {
   "attachments": {},
   "cell_type": "markdown",
   "metadata": {},
   "source": [
    "***Busqueda de N1 min y max***\n",
    "$$B_{max} = \\frac{1}{2}\\frac{\\int V_L(t)dt}{NA} + \\frac{NI_{DC}}{RA} < B_{sat}$$\n",
    "$$\\frac{1}{2}\\frac{V_dDT_s}{NA} + \\frac{NI_{DC}}{RA} < B_{sat}$$\n",
    "\n",
    "Con\n",
    "\n",
    "$$R = \\frac{l_e}{\\mu_0 \\mu_e A}$$\n",
    "\n",
    "Desmos: https://www.desmos.com/calculator/x80nw1l7ab"
   ]
  },
  {
   "attachments": {},
   "cell_type": "markdown",
   "metadata": {},
   "source": [
    "Cosas de TME:\n",
    "$$N_{min} = \\frac{1}{2}\\frac{V_dDT_s}{B_{sat}A_{min}}$$"
   ]
  },
  {
   "cell_type": "code",
   "execution_count": 4,
   "metadata": {},
   "outputs": [
    {
     "name": "stdout",
     "output_type": "stream",
     "text": [
      "N_min =  16.6732830488289  vueltas. Redondeamos a  17.0\n",
      "Raices: [2.42211538+8.65462812j 2.42211538-8.65462812j] ,\t Dan imaginarias, asi que la IDC es muy grande, probamos con algo mas bajo\n",
      "Distintas opciones de vueltas para distintos rangos de IDC:\n",
      "\n",
      "Opcion 1:\n",
      "\n",
      "\tRaices: [117.63696052  19.42673235] ,\t Con IDC =  250.0 mA\n",
      "\n",
      "\tN1 =  132  vueltas\n",
      "\tL1 =  25.617903665397524 mHy\n",
      "\tN2 =  27.5  vueltas\n",
      "\tL2 =  1.1118881799217675 mHy\n",
      "\tN3 =  18.7  vueltas\n",
      "\tL3 =  0.5141370943958252 mHy\n",
      "\n",
      "\tNormalizando:\n",
      "\tN1 =  132  vueltas\n",
      "\tL1 =  25.617903665397524 mHy\n",
      "\tN2 =  28.0  vueltas\n",
      "\tL2 =  1.1526880437139382 mHy\n",
      "\tN3 =  19.0  vueltas\n",
      "\tL3 =  0.5307657956386884 mHy\n",
      "\n",
      "\tVo2 =  25.454545454545457 V\n",
      "\tVo3 =  17.272727272727273 V\n",
      "\n"
     ]
    }
   ],
   "source": [
    "from scipy.optimize import fsolve\n",
    "import numpy as np\n",
    "\n",
    "def get_turns(Vd, Vo2, Vo3, D_mean, N1, Al):\n",
    "    L1 = Al*N1**2\n",
    "    N2 = N1*(Vo2/Vd)*(1-D_mean)/(D_mean)\n",
    "    L2 = Al*N2**2\n",
    "    N3 = N1*Vo3/Vd*(1-D_mean)/(D_mean)\n",
    "    L3 = Al*N3**2\n",
    "    print(\"\")\n",
    "    print(\"\\tN1 = \", N1, \" vueltas\")\n",
    "    print(\"\\tL1 = \", L1*1E3, \"mHy\")\n",
    "    print(\"\\tN2 = \", N2, \" vueltas\")\n",
    "    print(\"\\tL2 = \", L2*1E3, \"mHy\")\n",
    "    print(\"\\tN3 = \", N3, \" vueltas\")\n",
    "    print(\"\\tL3 = \", L3*1E3, \"mHy\")\n",
    "    print(\"\")\n",
    "    print(\"\\tNormalizando:\")\n",
    "    N2 = np.round(N2)\n",
    "    L2 = Al*N2**2\n",
    "    N3 = np.round(N3)\n",
    "    L3 = Al*N3**2\n",
    "    print(\"\\tN1 = \", N1, \" vueltas\")\n",
    "    print(\"\\tL1 = \", L1*1E3, \"mHy\")\n",
    "    print(\"\\tN2 = \", N2, \" vueltas\")\n",
    "    print(\"\\tL2 = \", L2*1E3, \"mHy\")\n",
    "    print(\"\\tN3 = \", N3, \" vueltas\")\n",
    "    print(\"\\tL3 = \", L3*1E3, \"mHy\")\n",
    "    print(\"\")\n",
    "    Vo2 = Vd*(N2/N1)*(D_mean/(1-D_mean))\n",
    "    Vo3 = Vd*(N3/N1)*(D_mean/(1-D_mean))\n",
    "    print(\"\\tVo2 = \", Vo2, \"V\")\n",
    "    print(\"\\tVo3 = \", Vo3, \"V\")\n",
    "    print(\"\")\n",
    "    return\n",
    "\n",
    "Bsat = 220E-3   #En realidad la datasheet dice 320mT pero Miguel dice que mas de 220mT no le sacamos\n",
    "\n",
    "#Datos\n",
    "Vd = 280\n",
    "#Ponemos un D alto para asegurarnos que ni asi va a saturar\n",
    "D = 0.45    #Maximo conservador para el modulo pwm\n",
    "Fs = 75E3\n",
    "Ts = 1/Fs\n",
    "#Corriente DC maxima para el MOS\n",
    "IDC = 2\n",
    "#Datos del nucleo\n",
    "Al = 5200E-9\n",
    "Al_min = Al*(1-0.2)\n",
    "Al_max = Al*(1+0.3)\n",
    "A_min = 229E-6\n",
    "le = 97E-3\n",
    "u0 = 4*np.pi*1E-7\n",
    "ue = 1690\n",
    "Ae = 234E-6\n",
    "R = le/(u0*ue*A_min)\n",
    "#Si usamos un gap:\n",
    "lgap = 0.2E-3 #Probamos con gap de medio milimetro\n",
    "R = lgap/(u0*Ae)\n",
    "\n",
    "#Ahora encontramos los parametros limite y deseados\n",
    "N_min = 0.5*Vd*D*Ts/(Bsat*A_min)\n",
    "print(\"N_min = \", N_min, \" vueltas. Redondeamos a \", np.ceil(N_min))\n",
    "\n",
    "#Este es el N_min para que el nucleo no sature por su propia inductancia, ahora tenemos que ver un Idc maximo admitible\n",
    "#Resolvemos la ecuacion cuadratica: 0.5*Vd*D*Ts/(A_min) + (N**2)*IDC/(R*A_min) - Bsat*N = 0\n",
    "coeffs = [IDC*Al/(A_min), - Bsat, 0.5*Vd*D*Ts/(A_min)]\n",
    "print(\"Raices:\", np.roots(coeffs), \",\\t Dan imaginarias, asi que la IDC es muy grande, probamos con algo mas bajo\")\n",
    "#Vemos que nos da raices complejas, asi que la IDC (que es el unico parametro que podemos mover, es muy alta)\n",
    "\n",
    "#Resto de parametros del transformador\n",
    "Vo2 = 24+1 #+1Vdc para compensar caida en diodos\n",
    "Vo3 = 16+1\n",
    "\n",
    "\n",
    "print(\"Distintas opciones de vueltas para distintos rangos de IDC:\\n\")\n",
    "print(\"Opcion 1:\\n\")\n",
    "IDC = 250E-3\n",
    "coeffs = [IDC/(R*A_min), - Bsat, 0.5*Vd*D*Ts/(A_min)]\n",
    "print(\"\\tRaices:\", np.roots(coeffs), \",\\t Con IDC = \", IDC*1E3, \"mA\")\n",
    "N1 = 132\n",
    "get_turns(Vd, Vo2, Vo3, 0.30, N1, 1/R)"
   ]
  },
  {
   "cell_type": "code",
   "execution_count": 5,
   "metadata": {},
   "outputs": [
    {
     "name": "stdout",
     "output_type": "stream",
     "text": [
      " Vd  Vo2  Vo3  AL[nHy]  N1  L1[mHy]     N2  L2[uHy]     N3  L3[uHy] Normalizamos...  N2_norm  L2_norm[uHy]  N3_norm  L3_norm[uHy]  Vo2_norm  Vo3_norm\n",
      "280   25   17 1470.265 110   17.790 22.917  772.145 15.583  357.040                   23.000       772.145   16.000       357.040    25.091    17.455\n",
      "280   25   17 1470.265 112   18.443 23.333  800.478 15.867  370.141                   23.000       800.478   16.000       370.141    24.643    17.143\n",
      "280   25   17 1470.265 114   19.108 23.750  829.322 16.150  383.478                   24.000       829.322   16.000       383.478    25.263    16.842\n",
      "280   25   17 1470.265 116   19.784 24.167  858.676 16.433  397.052                   24.000       858.676   16.000       397.052    24.828    16.552\n",
      "280   25   17 1470.265 118   20.472 24.583  888.541 16.717  410.861                   25.000       888.541   17.000       410.861    25.424    17.288\n",
      "280   25   17 1470.265 120   21.172 25.000  918.916 17.000  424.907                   25.000       918.916   17.000       424.907    25.000    17.000\n",
      "280   25   17 1470.265 122   21.883 25.417  949.802 17.283  439.188                   25.000       949.802   17.000       439.188    24.590    16.721\n",
      "280   25   17 1470.265 124   22.607 25.833  981.198 17.567  453.706                   26.000       981.198   18.000       453.706    25.161    17.419\n",
      "280   25   17 1470.265 126   23.342 26.250 1013.105 17.850  468.460                   26.000      1013.105   18.000       468.460    24.762    17.143\n",
      "280   25   17 1470.265 128   24.089 26.667 1045.522 18.133  483.449                   27.000      1045.522   18.000       483.449    25.313    16.875\n",
      "280   25   17 1470.265 130   24.847 27.083 1078.450 18.417  498.675                   27.000      1078.450   18.000       498.675    24.923    16.615\n",
      "280   25   17 1470.265 132   25.618 27.500 1111.888 18.700  514.137                   28.000      1111.888   19.000       514.137    25.455    17.273\n",
      "280   25   17 1470.265 134   26.400 27.917 1145.837 18.983  529.835                   28.000      1145.837   19.000       529.835    25.075    17.015\n",
      "280   25   17 1470.265 136   27.194 28.333 1180.296 19.267  545.769                   28.000      1180.296   19.000       545.769    24.706    16.765\n",
      "280   25   17 1470.265 138   28.000 28.750 1215.266 19.550  561.939                   29.000      1215.266   20.000       561.939    25.217    17.391\n"
     ]
    }
   ],
   "source": [
    "##Escribir todas las posibilidades de N1 vueltas a un xml\n",
    "import pandas as pd\n",
    "\n",
    "def save_turns(Vd, Vo2, Vo3, D_mean, N1, Al, dataframe):\n",
    "    L1 = Al*N1**2\n",
    "    N2 = N1*(Vo2/Vd)*(1-D_mean)/(D_mean)\n",
    "    L2 = Al*N2**2\n",
    "    N3 = N1*Vo3/Vd*(1-D_mean)/(D_mean)\n",
    "    L3 = Al*N3**2\n",
    "\n",
    "    N2_norm = np.round(N2)\n",
    "    L2_norm = Al*N2**2\n",
    "    N3_norm = np.round(N3)\n",
    "    L3_norm = Al*N3**2\n",
    "\n",
    "    Vo2_norm = Vd*(N2_norm/N1)*(D_mean/(1-D_mean))\n",
    "    Vo3_norm = Vd*(N3_norm/N1)*(D_mean/(1-D_mean))\n",
    "    # add row to the DataFrame\n",
    "    dataframe.loc[len(dataframe)] = [Vd, Vo2, Vo3, Al*1E9, N1, L1*1E3, N2, L2*1E6, N3, L3*1E6, ' ', N2_norm, L2_norm*1E6, N3_norm, L3_norm*1E6, Vo2_norm, Vo3_norm]\n",
    "    return dataframe\n",
    "\n",
    "\n",
    "Al = 1/R\n",
    "# create an empty DataFrame\n",
    "df = pd.DataFrame(columns=['Vd', 'Vo2', 'Vo3', 'AL[nHy]', 'N1', 'L1[mHy]', 'N2', 'L2[uHy]', 'N3', 'L3[uHy]', 'Normalizamos...', 'N2_norm', 'L2_norm[uHy]', 'N3_norm', 'L3_norm[uHy]', 'Vo2_norm', 'Vo3_norm'])\n",
    "\n",
    "# add some rows to the DataFrame\n",
    "for N1 in range(110, 140, 2):\n",
    "    df = save_turns(Vd, Vo2, Vo3, 0.30, N1, Al, df)\n",
    "\n",
    "print(df.to_string(index=False, max_colwidth=20, float_format='%.3f'))"
   ]
  },
  {
   "cell_type": "code",
   "execution_count": 7,
   "metadata": {},
   "outputs": [
    {
     "name": "stdout",
     "output_type": "stream",
     "text": [
      "\n",
      "Corrientes maximas para no saturar al trafo\n",
      "IN1_DC_max =  205.3043346310458 mA\n",
      "IN2_DC_max =  962.3640685830272 mA\n",
      "R2min =  25.977694737512056 ohm\n",
      "IN3_DC_max =  1399.8022815753125 mA\n",
      "R3min =  12.144572289786886 ohm\n",
      "\n",
      "Corrientes de boundary\n",
      "Iob1 =  13.433788912973872 mA\n",
      "Iob2 =  63.330719161162534 mA\n",
      "R2max =  394.7531360946744 ohm\n",
      "Iob2 =  93.03153940806943 mA\n",
      "R3max =  182.73372781065086 ohm\n"
     ]
    }
   ],
   "source": [
    "#Corrientes en el trafo\n",
    "Bsat = 220E-3   #En realidad la datasheet dice 320mT pero Miguel dice que mas de 220mT no le sacamos\n",
    "\n",
    "#Datos\n",
    "Vd = 280\n",
    "#Ponemos un D alto para asegurarnos que ni asi va a saturar\n",
    "D = 0.4    #Maximo conservador para el modulo pwm\n",
    "Fs = 75E3\n",
    "Ts = 1/Fs\n",
    "Al = 5200E-9\n",
    "N1 = 150\n",
    "N2 = 32\n",
    "N3 = 22\n",
    "D_max = 0.41\n",
    "\n",
    "print(\"\\nCorrientes maximas para no saturar al trafo\")\n",
    "\n",
    "IN1_DC_max = (A_min*R/N1)*(Bsat-0.5*Vd*D_max*Ts/(N1*A_min))\n",
    "print(\"IN1_DC_max = \", IN1_DC_max*1E3, \"mA\")\n",
    "\n",
    "IN2_DC_max = IN1_DC_max*N1/N2\n",
    "IN3_DC_max = IN1_DC_max*N1/N3\n",
    "\n",
    "print(\"IN2_DC_max = \", IN2_DC_max*1E3, \"mA\")\n",
    "print(\"R2min = \", Vo2/IN2_DC_max, \"ohm\")\n",
    "print(\"IN3_DC_max = \", IN3_DC_max*1E3, \"mA\")\n",
    "print(\"R3min = \", Vo3/IN3_DC_max, \"ohm\")\n",
    "\n",
    "print(\"\\nCorrientes de boundary\")\n",
    "N1 = 132\n",
    "N2 = 28\n",
    "N3 = 19\n",
    "L1 = 25.618E-3\n",
    "L2 = 1111.888E-6\n",
    "L3 = 514.7E-6\n",
    "Iob2 = 0.5*Vo2*(Ts/L2)*((1-0.35)**2)\n",
    "Iob1 = Iob2*N2/N1\n",
    "R2MAX = Vo2/Iob2\n",
    "Iob3 = 0.5*Vo3*(Ts/L3)*((1-0.35)**2)\n",
    "R3MAX = Vo3/Iob3\n",
    "print(\"Iob1 = \", Iob1*1E3, \"mA\")\n",
    "print(\"Iob2 = \", Iob2*1E3, \"mA\")\n",
    "print(\"R2max = \", R2MAX, \"ohm\")\n",
    "print(\"Iob2 = \", Iob3*1E3, \"mA\")\n",
    "print(\"R3max = \", R3MAX, \"ohm\")\n"
   ]
  },
  {
   "attachments": {},
   "cell_type": "markdown",
   "metadata": {},
   "source": [
    "***Snubber***\n",
    "$$V_{DS} > V_{C_{SN}} > V_d + V_{o}\\frac{N1}{N2}$$"
   ]
  },
  {
   "attachments": {},
   "cell_type": "markdown",
   "metadata": {},
   "source": [
    "$$C_{snubber} > \\frac{L_{disp}*I_{L_{disp}}}{V_{sw_{max}^2 - (V_{d} + V_o \\frac{N1}{N2})^2}}$$"
   ]
  },
  {
   "attachments": {},
   "cell_type": "markdown",
   "metadata": {},
   "source": [
    "$$R_{snubber} < \\frac{T_{ON_{min}}}{3C_{snubber}} = \\frac{D_{min}Ts}{3C_{snubber}}$$"
   ]
  },
  {
   "cell_type": "code",
   "execution_count": 9,
   "metadata": {},
   "outputs": [
    {
     "name": "stdout",
     "output_type": "stream",
     "text": [
      "Ldisp =  1280.8999999999999 mHy\n",
      "Csn_min =  3.267775527819153 nF\n",
      "Csn =  10.0 nF\n",
      "Rsn_max =  22.22222222222222 ohm\n"
     ]
    }
   ],
   "source": [
    "#Estimacion de Ldisp REVISAR\n",
    "Ldisp = 0.05*L1\n",
    "print(\"Ldisp = \", Ldisp*1E6, \"mHy\")\n",
    "ILdisp = IN1_DC_max+Vd*0.5*Ts/Ldisp\n",
    "\n",
    "Vsw_max = 900\n",
    "\n",
    "Csn_min = Ldisp*ILdisp/(Vsw_max**2 - (Vd+Vo2*N1/N2)**2)\n",
    "print(\"Csn_min = \", Csn_min*1E9, \"nF\")\n",
    "Csn = 10E-9\n",
    "print(\"Csn = \", Csn*1E9, \"nF\")\n",
    "#Ahora para Rsn\n",
    "Dmin = 0.05\n",
    "Rsn_max = Dmin*Ts/(3*Csn)\n",
    "print(\"Rsn_max = \", Rsn_max, \"ohm\")"
   ]
  }
 ],
 "metadata": {
  "kernelspec": {
   "display_name": "Python 3",
   "language": "python",
   "name": "python3"
  },
  "language_info": {
   "codemirror_mode": {
    "name": "ipython",
    "version": 3
   },
   "file_extension": ".py",
   "mimetype": "text/x-python",
   "name": "python",
   "nbconvert_exporter": "python",
   "pygments_lexer": "ipython3",
   "version": "3.11.2"
  },
  "orig_nbformat": 4
 },
 "nbformat": 4,
 "nbformat_minor": 2
}
