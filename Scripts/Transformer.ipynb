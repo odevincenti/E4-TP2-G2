{
 "cells": [
  {
   "attachments": {},
   "cell_type": "markdown",
   "metadata": {},
   "source": [
    "***Busqueda de N1 min y max***\n",
    "$$\\int_\\Omega \\nabla u \\cdot \\nabla v~dx = \\int_\\Omega fv~dx$$\n",
    "$$B_{max} = \\frac{1}{2}\\frac{\\int V_L(t)dt}{NA} + \\frac{NI_{DC}}{RA} < B_{sat}$$\n",
    "$$\\frac{1}{2}\\frac{V_dDT_s}{NA} + \\frac{NI_{DC}}{RA} < B_{sat}$$\n",
    "\n",
    "Con\n",
    "\n",
    "$$R = \\frac{l_e}{\\mu_0 \\mu_e A}$$\n",
    "\n",
    "Desmos: https://www.desmos.com/calculator/x80nw1l7ab"
   ]
  },
  {
   "attachments": {},
   "cell_type": "markdown",
   "metadata": {},
   "source": [
    "Cosas de TME:\n",
    "$$N_{min} = \\frac{1}{2}\\frac{V_dDT_s}{B_{sat}A_{min}}$$"
   ]
  },
  {
   "cell_type": "code",
   "execution_count": 1,
   "metadata": {},
   "outputs": [
    {
     "name": "stdout",
     "output_type": "stream",
     "text": [
      "N_min =  16.6732830488289  vueltas. Redondeamos a  17.0\n",
      "Raices: [2.42211538+8.65462812j 2.42211538-8.65462812j] ,\t Dan imaginarias, asi que la IDC es muy grande, probamos con algo mas bajo\n",
      "Distintas opciones de vueltas para distintos rangos de IDC:\n",
      "\n",
      "Opcion 1:\n",
      "\n",
      "\tRaices: [79.37744072 21.10677483] ,\t Con IDC =  100.0 mA\n",
      "\n",
      "\tN1 =  60  vueltas\n",
      "\tL1 =  18.72 mHy\n",
      "\tN2 =  9.948979591836737  vueltas\n",
      "\tL2 =  0.5147074135776762 mHy\n",
      "\tN3 =  6.76530612244898  vueltas\n",
      "\tL3 =  0.23800070803831738 mHy\n",
      "\n",
      "\tNormalizando:\n",
      "\tN1 =  60  vueltas\n",
      "\tL1 =  18.72 mHy\n",
      "\tN2 =  10.0  vueltas\n",
      "\tL2 =  0.52 mHy\n",
      "\tN3 =  7.0  vueltas\n",
      "\tL3 =  0.2548 mHy\n",
      "\n",
      "\tVo2 =  25.128205128205124 V\n",
      "\tVo3 =  17.589743589743588 V\n",
      "\n"
     ]
    }
   ],
   "source": [
    "from scipy.optimize import fsolve\n",
    "import numpy as np\n",
    "\n",
    "def get_turns(Vd, Vo2, Vo3, D_mean, N1, Al):\n",
    "    L1 = Al*N1**2\n",
    "    N2 = N1*(Vo2/Vd)*(1-D_mean)/(D_mean)\n",
    "    L2 = Al*N2**2\n",
    "    N3 = N1*Vo3/Vd*(1-D_mean)/(D_mean)\n",
    "    L3 = Al*N3**2\n",
    "    print(\"\")\n",
    "    print(\"\\tN1 = \", N1, \" vueltas\")\n",
    "    print(\"\\tL1 = \", L1*1E3, \"mHy\")\n",
    "    print(\"\\tN2 = \", N2, \" vueltas\")\n",
    "    print(\"\\tL2 = \", L2*1E3, \"mHy\")\n",
    "    print(\"\\tN3 = \", N3, \" vueltas\")\n",
    "    print(\"\\tL3 = \", L3*1E3, \"mHy\")\n",
    "    print(\"\")\n",
    "    print(\"\\tNormalizando:\")\n",
    "    N2 = np.round(N2)\n",
    "    L2 = Al*N2**2\n",
    "    N3 = np.round(N3)\n",
    "    L3 = Al*N3**2\n",
    "    print(\"\\tN1 = \", N1, \" vueltas\")\n",
    "    print(\"\\tL1 = \", L1*1E3, \"mHy\")\n",
    "    print(\"\\tN2 = \", N2, \" vueltas\")\n",
    "    print(\"\\tL2 = \", L2*1E3, \"mHy\")\n",
    "    print(\"\\tN3 = \", N3, \" vueltas\")\n",
    "    print(\"\\tL3 = \", L3*1E3, \"mHy\")\n",
    "    print(\"\")\n",
    "    Vo2 = Vd*(N2/N1)*(D_mean/(1-D_mean))\n",
    "    Vo3 = Vd*(N3/N1)*(D_mean/(1-D_mean))\n",
    "    print(\"\\tVo2 = \", Vo2, \"V\")\n",
    "    print(\"\\tVo3 = \", Vo3, \"V\")\n",
    "    print(\"\")\n",
    "    return\n",
    "\n",
    "Bsat = 220E-3   #En realidad la datasheet dice 320mT pero Miguel dice que mas de 220mT no le sacamos\n",
    "\n",
    "#Datos\n",
    "Vd = 280\n",
    "#Ponemos un D alto para asegurarnos que ni asi va a saturar\n",
    "D = 0.45    #Maximo conservador para el modulo pwm\n",
    "Fs = 75E3\n",
    "Ts = 1/Fs\n",
    "#Corriente DC maxima para el MOS\n",
    "IDC = 2\n",
    "#Datos del nucleo\n",
    "Al = 5200E-9\n",
    "Al_min = Al*(1-0.2)\n",
    "Al_max = Al*(1+0.3)\n",
    "A_min = 229E-6\n",
    "le = 97E-3\n",
    "u0 = 4*np.pi*1E-7\n",
    "ue = 1690\n",
    "Ae = 234E-6\n",
    "R = le/(u0*ue*A_min)\n",
    "\n",
    "#Ahora encontramos los parametros limite y deseados\n",
    "N_min = 0.5*Vd*D*Ts/(Bsat*A_min)\n",
    "print(\"N_min = \", N_min, \" vueltas. Redondeamos a \", np.ceil(N_min))\n",
    "\n",
    "#Este es el N_min para que el nucleo no sature por su propia inductancia, ahora tenemos que ver un Idc maximo admitible\n",
    "#Resolvemos la ecuacion cuadratica: 0.5*Vd*D*Ts/(A_min) + (N**2)*IDC/(R*A_min) - Bsat*N = 0\n",
    "coeffs = [IDC*Al/(A_min), - Bsat, 0.5*Vd*D*Ts/(A_min)]\n",
    "print(\"Raices:\", np.roots(coeffs), \",\\t Dan imaginarias, asi que la IDC es muy grande, probamos con algo mas bajo\")\n",
    "#Vemos que nos da raices complejas, asi que la IDC (que es el unico parametro que podemos mover, es muy alta)\n",
    "\n",
    "#Resto de parametros del transformador\n",
    "Vo2 = 24+1 #+1Vdc para compensar caida en diodos\n",
    "Vo3 = 16+1\n",
    "\n",
    "\n",
    "print(\"Distintas opciones de vueltas para distintos rangos de IDC:\\n\")\n",
    "print(\"Opcion 1:\\n\")\n",
    "IDC = 100E-3\n",
    "coeffs = [IDC/(R*A_min), - Bsat, 0.5*Vd*D*Ts/(A_min)]\n",
    "print(\"\\tRaices:\", np.roots(coeffs), \",\\t Con IDC = \", IDC*1E3, \"mA\")\n",
    "N1 = 60\n",
    "get_turns(Vd, Vo2, Vo3, 0.35, N1, Al)"
   ]
  },
  {
   "cell_type": "code",
   "execution_count": 5,
   "metadata": {},
   "outputs": [
    {
     "name": "stdout",
     "output_type": "stream",
     "text": [
      " Vd  Vo2  Vo3  AL[nHy]  N1  L1[mHy]     N2  L2[mHy]    N3  L3[mHy] Normalizamos...  N2_norm  L2_norm[mHy]  N3_norm  L3_norm[mHy]  Vo2_norm  Vo3_norm\n",
      "280   25   17 5200.000  25    3.250  5.208    0.141 3.542    0.065                    5.000         0.141    4.000         0.065    24.000    19.200\n",
      "280   25   17 5200.000  26    3.515  5.417    0.153 3.683    0.071                    5.000         0.153    4.000         0.071    23.077    18.462\n",
      "280   25   17 5200.000  27    3.791  5.625    0.165 3.825    0.076                    6.000         0.165    4.000         0.076    26.667    17.778\n",
      "280   25   17 5200.000  28    4.077  5.833    0.177 3.967    0.082                    6.000         0.177    4.000         0.082    25.714    17.143\n",
      "280   25   17 5200.000  29    4.373  6.042    0.190 4.108    0.088                    6.000         0.190    4.000         0.088    24.828    16.552\n",
      "280   25   17 5200.000  30    4.680  6.250    0.203 4.250    0.094                    6.000         0.203    4.000         0.094    24.000    16.000\n",
      "280   25   17 5200.000  31    4.997  6.458    0.217 4.392    0.100                    6.000         0.217    4.000         0.100    23.226    15.484\n",
      "280   25   17 5200.000  32    5.325  6.667    0.231 4.533    0.107                    7.000         0.231    5.000         0.107    26.250    18.750\n",
      "280   25   17 5200.000  33    5.663  6.875    0.246 4.675    0.114                    7.000         0.246    5.000         0.114    25.455    18.182\n",
      "280   25   17 5200.000  34    6.011  7.083    0.261 4.817    0.121                    7.000         0.261    5.000         0.121    24.706    17.647\n",
      "280   25   17 5200.000  35    6.370  7.292    0.276 4.958    0.128                    7.000         0.276    5.000         0.128    24.000    17.143\n",
      "280   25   17 5200.000  36    6.739  7.500    0.292 5.100    0.135                    8.000         0.292    5.000         0.135    26.667    16.667\n",
      "280   25   17 5200.000  37    7.119  7.708    0.309 5.242    0.143                    8.000         0.309    5.000         0.143    25.946    16.216\n",
      "280   25   17 5200.000  38    7.509  7.917    0.326 5.383    0.151                    8.000         0.326    5.000         0.151    25.263    15.789\n",
      "280   25   17 5200.000  39    7.909  8.125    0.343 5.525    0.159                    8.000         0.343    6.000         0.159    24.615    18.462\n",
      "280   25   17 5200.000  40    8.320  8.333    0.361 5.667    0.167                    8.000         0.361    6.000         0.167    24.000    18.000\n",
      "280   25   17 5200.000  41    8.741  8.542    0.379 5.808    0.175                    9.000         0.379    6.000         0.175    26.341    17.561\n",
      "280   25   17 5200.000  42    9.173  8.750    0.398 5.950    0.184                    9.000         0.398    6.000         0.184    25.714    17.143\n",
      "280   25   17 5200.000  43    9.615  8.958    0.417 6.092    0.193                    9.000         0.417    6.000         0.193    25.116    16.744\n",
      "280   25   17 5200.000  44   10.067  9.167    0.437 6.233    0.202                    9.000         0.437    6.000         0.202    24.545    16.364\n",
      "280   25   17 5200.000  45   10.530  9.375    0.457 6.375    0.211                    9.000         0.457    6.000         0.211    24.000    16.000\n",
      "280   25   17 5200.000  46   11.003  9.583    0.478 6.517    0.221                   10.000         0.478    7.000         0.221    26.087    18.261\n",
      "280   25   17 5200.000  47   11.487  9.792    0.499 6.658    0.231                   10.000         0.499    7.000         0.231    25.532    17.872\n",
      "280   25   17 5200.000  48   11.981 10.000    0.520 6.800    0.240                   10.000         0.520    7.000         0.240    25.000    17.500\n",
      "280   25   17 5200.000  49   12.485 10.208    0.542 6.942    0.251                   10.000         0.542    7.000         0.251    24.490    17.143\n",
      "280   25   17 5200.000  50   13.000 10.417    0.564 7.083    0.261                   10.000         0.564    7.000         0.261    24.000    16.800\n",
      "280   25   17 5200.000  51   13.525 10.625    0.587 7.225    0.271                   11.000         0.587    7.000         0.271    25.882    16.471\n",
      "280   25   17 5200.000  52   14.061 10.833    0.610 7.367    0.282                   11.000         0.610    7.000         0.282    25.385    16.154\n",
      "280   25   17 5200.000  53   14.607 11.042    0.634 7.508    0.293                   11.000         0.634    8.000         0.293    24.906    18.113\n",
      "280   25   17 5200.000  54   15.163 11.250    0.658 7.650    0.304                   11.000         0.658    8.000         0.304    24.444    17.778\n",
      "280   25   17 5200.000  55   15.730 11.458    0.683 7.792    0.316                   11.000         0.683    8.000         0.316    24.000    17.455\n",
      "280   25   17 5200.000  56   16.307 11.667    0.708 7.933    0.327                   12.000         0.708    8.000         0.327    25.714    17.143\n",
      "280   25   17 5200.000  57   16.895 11.875    0.733 8.075    0.339                   12.000         0.733    8.000         0.339    25.263    16.842\n",
      "280   25   17 5200.000  58   17.493 12.083    0.759 8.217    0.351                   12.000         0.759    8.000         0.351    24.828    16.552\n",
      "280   25   17 5200.000  59   18.101 12.292    0.786 8.358    0.363                   12.000         0.786    8.000         0.363    24.407    16.271\n",
      "280   25   17 5200.000  60   18.720 12.500    0.813 8.500    0.376                   12.000         0.813    8.000         0.376    24.000    16.000\n",
      "280   25   17 5200.000  61   19.349 12.708    0.840 8.642    0.388                   13.000         0.840    9.000         0.388    25.574    17.705\n",
      "280   25   17 5200.000  62   19.989 12.917    0.868 8.783    0.401                   13.000         0.868    9.000         0.401    25.161    17.419\n",
      "280   25   17 5200.000  63   20.639 13.125    0.896 8.925    0.414                   13.000         0.896    9.000         0.414    24.762    17.143\n",
      "280   25   17 5200.000  64   21.299 13.333    0.924 9.067    0.427                   13.000         0.924    9.000         0.427    24.375    16.875\n",
      "280   25   17 5200.000  65   21.970 13.542    0.954 9.208    0.441                   14.000         0.954    9.000         0.441    25.846    16.615\n",
      "280   25   17 5200.000  66   22.651 13.750    0.983 9.350    0.455                   14.000         0.983    9.000         0.455    25.455    16.364\n",
      "280   25   17 5200.000  67   23.343 13.958    1.013 9.492    0.468                   14.000         1.013    9.000         0.468    25.075    16.119\n",
      "280   25   17 5200.000  68   24.045 14.167    1.044 9.633    0.483                   14.000         1.044   10.000         0.483    24.706    17.647\n",
      "280   25   17 5200.000  69   24.757 14.375    1.075 9.775    0.497                   14.000         1.075   10.000         0.497    24.348    17.391\n",
      "280   25   17 5200.000  70   25.480 14.583    1.106 9.917    0.511                   15.000         1.106   10.000         0.511    25.714    17.143\n"
     ]
    }
   ],
   "source": [
    "##Escribir todas las posibilidades de N1 vueltas a un xml\n",
    "import pandas as pd\n",
    "\n",
    "def save_turns(Vd, Vo2, Vo3, D_mean, N1, Al, dataframe):\n",
    "    L1 = Al*N1**2\n",
    "    N2 = N1*(Vo2/Vd)*(1-D_mean)/(D_mean)\n",
    "    L2 = Al*N2**2\n",
    "    N3 = N1*Vo3/Vd*(1-D_mean)/(D_mean)\n",
    "    L3 = Al*N3**2\n",
    "\n",
    "    N2_norm = np.round(N2)\n",
    "    L2_norm = Al*N2**2\n",
    "    N3_norm = np.round(N3)\n",
    "    L3_norm = Al*N3**2\n",
    "\n",
    "    Vo2_norm = Vd*(N2_norm/N1)*(D_mean/(1-D_mean))\n",
    "    Vo3_norm = Vd*(N3_norm/N1)*(D_mean/(1-D_mean))\n",
    "    # add row to the DataFrame\n",
    "    dataframe.loc[len(dataframe)] = [Vd, Vo2, Vo3, Al*1E9, N1, L1*1E3, N2, L2*1E3, N3, L3*1E3, ' ', N2_norm, L2_norm*1E3, N3_norm, L3_norm*1E3, Vo2_norm, Vo3_norm]\n",
    "    return dataframe\n",
    "\n",
    "\n",
    "Al = 5200E-9\n",
    "# create an empty DataFrame\n",
    "df = pd.DataFrame(columns=['Vd', 'Vo2', 'Vo3', 'AL[nHy]', 'N1', 'L1[mHy]', 'N2', 'L2[mHy]', 'N3', 'L3[mHy]', 'Normalizamos...', 'N2_norm', 'L2_norm[mHy]', 'N3_norm', 'L3_norm[mHy]', 'Vo2_norm', 'Vo3_norm'])\n",
    "\n",
    "# add some rows to the DataFrame\n",
    "\n",
    "# create an XML file from the DataFrame\n",
    "for N1 in range(25, 71, 1):\n",
    "    df = save_turns(Vd, Vo2, Vo3, 0.30, N1, Al, df)\n",
    "\n",
    "print(df.to_string(index=False, max_colwidth=20, float_format='%.3f'))"
   ]
  },
  {
   "cell_type": "code",
   "execution_count": 6,
   "metadata": {},
   "outputs": [
    {
     "name": "stdout",
     "output_type": "stream",
     "text": [
      "IN1_DC_max =  119.52419652872707 mA\n",
      "IN2_DC_max =  570.0384757523907 mA\n",
      "IN3_DC_max =  823.3889094201198 mA\n"
     ]
    }
   ],
   "source": [
    "#Corrientes en el trafo\n",
    "Bsat = 220E-3   #En realidad la datasheet dice 320mT pero Miguel dice que mas de 220mT no le sacamos\n",
    "\n",
    "#Datos\n",
    "Vd = 300\n",
    "#Ponemos un D alto para asegurarnos que ni asi va a saturar\n",
    "D = 0.5    #Maximo conservador para el modulo pwm\n",
    "Fs = 75E3\n",
    "Ts = 1/Fs\n",
    "Al = 5200E-9\n",
    "N1 = 62\n",
    "N2 = 13\n",
    "N3 = 9\n",
    "D_max = 0.41\n",
    "IN1_DC_max = (A_min*R/N1)*(Bsat-0.5*Vd*D_max*Ts/(N1*A_min))\n",
    "print(\"IN1_DC_max = \", IN1_DC_max*1E3, \"mA\")\n",
    "\n",
    "IN2_DC_max = IN1_DC_max*N1/N2\n",
    "IN3_DC_max = IN1_DC_max*N1/N3\n",
    "\n",
    "print(\"IN2_DC_max = \", IN2_DC_max*1E3, \"mA\")\n",
    "print(\"IN3_DC_max = \", IN3_DC_max*1E3, \"mA\")"
   ]
  },
  {
   "attachments": {},
   "cell_type": "markdown",
   "metadata": {},
   "source": [
    "***Snubber***\n",
    "$$V_{DS} > V_{C_{SN}} > V_d + V_{o}\\frac{N1}{N2}$$"
   ]
  },
  {
   "attachments": {},
   "cell_type": "markdown",
   "metadata": {},
   "source": [
    "$$C_{snubber} > \\frac{L_{disp}*I_{L_{disp}}}{V_{sw_{max}^2 - (V_{d} + V_o \\frac{N1}{N2})^2}}$$"
   ]
  },
  {
   "attachments": {},
   "cell_type": "markdown",
   "metadata": {},
   "source": [
    "$$R_{snubber} < \\frac{T_{ON_{min}}}{3C_{snubber}} = \\frac{D_{min}Ts}{3C_{snubber}}$$"
   ]
  },
  {
   "cell_type": "code",
   "execution_count": 9,
   "metadata": {},
   "outputs": [
    {
     "name": "stdout",
     "output_type": "stream",
     "text": [
      "Csn_min =  3.692839914747128 nF\n",
      "Csn =  4.7 nF\n",
      "Rsn_max =  47.28132387706856 ohm\n"
     ]
    }
   ],
   "source": [
    "#Estimacion de Ldisp REVISAR\n",
    "L1 = Al*N1**2\n",
    "Ldisp = 0.1*L1\n",
    "ILdisp = IN1_DC_max+Vd*0.5*Ts/Ldisp\n",
    "\n",
    "Vsw_max = 900\n",
    "\n",
    "Csn_min = Ldisp*ILdisp/(Vsw_max**2 - (Vd+Vo2*N1/N2)**2)\n",
    "print(\"Csn_min = \", Csn_min*1E9, \"nF\")\n",
    "Csn = 4.7E-9\n",
    "print(\"Csn = \", Csn*1E9, \"nF\")\n",
    "#Ahora para Rsn\n",
    "Dmin = 0.05\n",
    "Rsn_max = Dmin*Ts/(3*Csn)\n",
    "print(\"Rsn_max = \", Rsn_max, \"ohm\")"
   ]
  }
 ],
 "metadata": {
  "kernelspec": {
   "display_name": "Python 3",
   "language": "python",
   "name": "python3"
  },
  "language_info": {
   "codemirror_mode": {
    "name": "ipython",
    "version": 3
   },
   "file_extension": ".py",
   "mimetype": "text/x-python",
   "name": "python",
   "nbconvert_exporter": "python",
   "pygments_lexer": "ipython3",
   "version": "3.11.2"
  },
  "orig_nbformat": 4
 },
 "nbformat": 4,
 "nbformat_minor": 2
}
