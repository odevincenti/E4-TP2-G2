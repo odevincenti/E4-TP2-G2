{
 "cells": [
  {
   "attachments": {},
   "cell_type": "markdown",
   "metadata": {},
   "source": [
    "***Busqueda de N1 min y max***\n",
    "$$\\int_\\Omega \\nabla u \\cdot \\nabla v~dx = \\int_\\Omega fv~dx$$\n",
    "$$B_{max} = \\frac{1}{2}\\frac{\\int V_L(t)dt}{NA} + \\frac{NI_{DC}}{RA} < B_{sat}$$\n",
    "$$\\frac{1}{2}\\frac{V_dDT_s}{NA} + \\frac{NI_{DC}}{RA} < B_{sat}$$\n",
    "\n",
    "Con\n",
    "\n",
    "$$R = \\frac{l_e}{\\mu_0 \\mu_e A}$$\n",
    "\n",
    "Desmos: https://www.desmos.com/calculator/x80nw1l7ab"
   ]
  },
  {
   "attachments": {},
   "cell_type": "markdown",
   "metadata": {},
   "source": [
    "Cosas de TME:\n",
    "$$N_{min} = \\frac{1}{2}\\frac{V_dDT_s}{B_{sat}A_{min}}$$"
   ]
  },
  {
   "cell_type": "code",
   "execution_count": 1,
   "metadata": {},
   "outputs": [
    {
     "name": "stdout",
     "output_type": "stream",
     "text": [
      "N_min =  19.84914648670107  vueltas. Redondeamos a  20.0\n",
      "Raices: [2.42211538+9.50195786j 2.42211538-9.50195786j] ,\t Dan imaginarias, asi que la IDC es muy grande, probamos con algo mas bajo\n",
      "Distintas opciones de vueltas para distintos rangos de IDC:\n",
      "\n",
      "Opcion 1:\n",
      "\n",
      "\tRaices: [73.2582647  27.22595085] ,\t Con IDC =  100.0 mA\n",
      "\n",
      "\tN1 =  60  vueltas\n",
      "\tL1 =  18.72 mHy\n",
      "\tN2 =  8.914285714285715  vueltas\n",
      "\tL2 =  0.41321534693877554 mHy\n",
      "\tN3 =  5.942857142857143  vueltas\n",
      "\tL3 =  0.1836512653061225 mHy\n",
      "\n",
      "\tNormalizando:\n",
      "\tN1 =  60  vueltas\n",
      "\tL1 =  18.72 mHy\n",
      "\tN2 =  9.0  vueltas\n",
      "\tL2 =  0.4212 mHy\n",
      "\tN3 =  6.0  vueltas\n",
      "\tL3 =  0.1872 mHy\n",
      "\n",
      "\tVo2 =  24.23076923076923 V\n",
      "\tVo3 =  16.153846153846153 V\n",
      "\n"
     ]
    }
   ],
   "source": [
    "from scipy.optimize import fsolve\n",
    "import numpy as np\n",
    "\n",
    "def get_turns(Vd, Vo2, Vo3, D_mean, N1, Al):\n",
    "    L1 = Al*N1**2\n",
    "    N2 = N1*(Vo2/Vd)*(1-D_mean)/(D_mean)\n",
    "    L2 = Al*N2**2\n",
    "    N3 = N1*Vo3/Vd*(1-D_mean)/(D_mean)\n",
    "    L3 = Al*N3**2\n",
    "    print(\"\")\n",
    "    print(\"\\tN1 = \", N1, \" vueltas\")\n",
    "    print(\"\\tL1 = \", L1*1E3, \"mHy\")\n",
    "    print(\"\\tN2 = \", N2, \" vueltas\")\n",
    "    print(\"\\tL2 = \", L2*1E3, \"mHy\")\n",
    "    print(\"\\tN3 = \", N3, \" vueltas\")\n",
    "    print(\"\\tL3 = \", L3*1E3, \"mHy\")\n",
    "    print(\"\")\n",
    "    print(\"\\tNormalizando:\")\n",
    "    N2 = np.round(N2)\n",
    "    L2 = Al*N2**2\n",
    "    N3 = np.round(N3)\n",
    "    L3 = Al*N3**2\n",
    "    print(\"\\tN1 = \", N1, \" vueltas\")\n",
    "    print(\"\\tL1 = \", L1*1E3, \"mHy\")\n",
    "    print(\"\\tN2 = \", N2, \" vueltas\")\n",
    "    print(\"\\tL2 = \", L2*1E3, \"mHy\")\n",
    "    print(\"\\tN3 = \", N3, \" vueltas\")\n",
    "    print(\"\\tL3 = \", L3*1E3, \"mHy\")\n",
    "    print(\"\")\n",
    "    Vo2 = Vd*(N2/N1)*(D_mean/(1-D_mean))\n",
    "    Vo3 = Vd*(N3/N1)*(D_mean/(1-D_mean))\n",
    "    print(\"\\tVo2 = \", Vo2, \"V\")\n",
    "    print(\"\\tVo3 = \", Vo3, \"V\")\n",
    "    print(\"\")\n",
    "    return\n",
    "\n",
    "Bsat = 220E-3   #En realidad la datasheet dice 320mT pero Miguel dice que mas de 220mT no le sacamos\n",
    "\n",
    "#Datos\n",
    "Vd = 300\n",
    "#Ponemos un D alto para asegurarnos que ni asi va a saturar\n",
    "D = 0.5    #Maximo conservador para el modulo pwm\n",
    "Fs = 75E3\n",
    "Ts = 1/Fs\n",
    "#Corriente DC maxima para el MOS\n",
    "IDC = 2\n",
    "#Datos del nucleo\n",
    "Al = 5200E-9\n",
    "Al_min = Al*(1-0.2)\n",
    "Al_max = Al*(1+0.3)\n",
    "A_min = 229E-6\n",
    "le = 97E-3\n",
    "u0 = 4*np.pi*1E-7\n",
    "ue = 1690\n",
    "Ae = 234E-6\n",
    "R = le/(u0*ue*A_min)\n",
    "\n",
    "#Ahora encontramos los parametros limite y deseados\n",
    "N_min = 0.5*Vd*D*Ts/(Bsat*A_min)\n",
    "print(\"N_min = \", N_min, \" vueltas. Redondeamos a \", np.ceil(N_min))\n",
    "\n",
    "#Este es el N_min para que el nucleo no sature por su propia inductancia, ahora tenemos que ver un Idc maximo admitible\n",
    "#Resolvemos la ecuacion cuadratica: 0.5*Vd*D*Ts/(A_min) + (N**2)*IDC/(R*A_min) - Bsat*N = 0\n",
    "coeffs = [IDC*Al/(A_min), - Bsat, 0.5*Vd*D*Ts/(A_min)]\n",
    "print(\"Raices:\", np.roots(coeffs), \",\\t Dan imaginarias, asi que la IDC es muy grande, probamos con algo mas bajo\")\n",
    "#Vemos que nos da raices complejas, asi que la IDC (que es el unico parametro que podemos mover, es muy alta)\n",
    "\n",
    "#Resto de parametros del transformador\n",
    "Vo2 = 24\n",
    "Vo3 = 16\n",
    "\n",
    "\n",
    "print(\"Distintas opciones de vueltas para distintos rangos de IDC:\\n\")\n",
    "print(\"Opcion 1:\\n\")\n",
    "IDC = 100E-3\n",
    "coeffs = [IDC/(R*A_min), - Bsat, 0.5*Vd*D*Ts/(A_min)]\n",
    "print(\"\\tRaices:\", np.roots(coeffs), \",\\t Con IDC = \", IDC*1E3, \"mA\")\n",
    "N1 = 60\n",
    "get_turns(Vd, Vo2, Vo3, 0.35, N1, Al)"
   ]
  },
  {
   "cell_type": "code",
   "execution_count": 45,
   "metadata": {},
   "outputs": [
    {
     "name": "stdout",
     "output_type": "stream",
     "text": [
      " Vd  Vo2  Vo3  AL[nHy]  N1  L1[mHy]     N2  L2[mHy]    N3  L3[mHy] Normalizamos...  N2_norm  L2_norm[mHy]  N3_norm  L3_norm[mHy]  Vo2_norm  Vo3_norm\n",
      "300   24   16 5200.000  25    3.250  3.714    0.072 2.476    0.032                    4.000         0.072    2.000         0.032    25.846    12.923\n",
      "300   24   16 5200.000  30    4.680  4.457    0.103 2.971    0.046                    4.000         0.103    3.000         0.046    21.538    16.154\n",
      "300   24   16 5200.000  35    6.370  5.200    0.141 3.467    0.062                    5.000         0.141    3.000         0.062    23.077    13.846\n",
      "300   24   16 5200.000  40    8.320  5.943    0.184 3.962    0.082                    6.000         0.184    4.000         0.082    24.231    16.154\n",
      "300   24   16 5200.000  45   10.530  6.686    0.232 4.457    0.103                    7.000         0.232    4.000         0.103    25.128    14.359\n",
      "300   24   16 5200.000  50   13.000  7.429    0.287 4.952    0.128                    7.000         0.287    5.000         0.128    22.615    16.154\n",
      "300   24   16 5200.000  55   15.730  8.171    0.347 5.448    0.154                    8.000         0.347    5.000         0.154    23.497    14.685\n",
      "300   24   16 5200.000  60   18.720  8.914    0.413 5.943    0.184                    9.000         0.413    6.000         0.184    24.231    16.154\n",
      "300   24   16 5200.000  65   21.970  9.657    0.485 6.438    0.216                   10.000         0.485    6.000         0.216    24.852    14.911\n",
      "300   24   16 5200.000  70   25.480 10.400    0.562 6.933    0.250                   10.000         0.562    7.000         0.250    23.077    16.154\n"
     ]
    }
   ],
   "source": [
    "##Escribir todas las posibilidades de N1 vueltas a un xml\n",
    "import pandas as pd\n",
    "\n",
    "def save_turns(Vd, Vo2, Vo3, D_mean, N1, Al, dataframe):\n",
    "    L1 = Al*N1**2\n",
    "    N2 = N1*(Vo2/Vd)*(1-D_mean)/(D_mean)\n",
    "    L2 = Al*N2**2\n",
    "    N3 = N1*Vo3/Vd*(1-D_mean)/(D_mean)\n",
    "    L3 = Al*N3**2\n",
    "\n",
    "    N2_norm = np.round(N2)\n",
    "    L2_norm = Al*N2**2\n",
    "    N3_norm = np.round(N3)\n",
    "    L3_norm = Al*N3**2\n",
    "\n",
    "    Vo2_norm = Vd*(N2_norm/N1)*(D_mean/(1-D_mean))\n",
    "    Vo3_norm = Vd*(N3_norm/N1)*(D_mean/(1-D_mean))\n",
    "    # add row to the DataFrame\n",
    "    dataframe.loc[len(dataframe)] = [Vd, Vo2, Vo3, Al*1E9, N1, L1*1E3, N2, L2*1E3, N3, L3*1E3, ' ', N2_norm, L2_norm*1E3, N3_norm, L3_norm*1E3, Vo2_norm, Vo3_norm]\n",
    "    return dataframe\n",
    "\n",
    "\n",
    "Al = 5200E-9\n",
    "# create an empty DataFrame\n",
    "df = pd.DataFrame(columns=['Vd', 'Vo2', 'Vo3', 'AL[nHy]', 'N1', 'L1[mHy]', 'N2', 'L2[mHy]', 'N3', 'L3[mHy]', 'Normalizamos...', 'N2_norm', 'L2_norm[mHy]', 'N3_norm', 'L3_norm[mHy]', 'Vo2_norm', 'Vo3_norm'])\n",
    "\n",
    "# add some rows to the DataFrame\n",
    "\n",
    "# create an XML file from the DataFrame\n",
    "for N1 in range(25, 71, 5):\n",
    "    df = save_turns(Vd, Vo2, Vo3, 0.35, N1, Al, df)\n",
    "\n",
    "print(df.to_string(index=False, max_colwidth=20, float_format='%.3f'))"
   ]
  },
  {
   "cell_type": "code",
   "execution_count": 7,
   "metadata": {},
   "outputs": [
    {
     "name": "stdout",
     "output_type": "stream",
     "text": [
      "IN1_DC_max =  112.07019497044915 mA\n",
      "IN2_DC_max =  747.1346331363277 mA\n",
      "IN3_DC_max =  1120.7019497044914 mA\n"
     ]
    }
   ],
   "source": [
    "#Corrientes en el trafo\n",
    "Bsat = 220E-3   #En realidad la datasheet dice 320mT pero Miguel dice que mas de 220mT no le sacamos\n",
    "\n",
    "#Datos\n",
    "Vd = 300\n",
    "#Ponemos un D alto para asegurarnos que ni asi va a saturar\n",
    "D = 0.5    #Maximo conservador para el modulo pwm\n",
    "Fs = 75E3\n",
    "Ts = 1/Fs\n",
    "Al = 5200E-9\n",
    "N1 = 60\n",
    "N2 = 9\n",
    "N3 = 6\n",
    "D_mean = 0.5\n",
    "IN1_DC_max = (A_min*R/N1)*(Bsat-0.5*Vd*D_mean*Ts/(N1*A_min))\n",
    "print(\"IN1_DC_max = \", IN1_DC_max*1E3, \"mA\")\n",
    "\n",
    "IN2_DC_max = IN1_DC_max*N1/N2\n",
    "IN3_DC_max = IN1_DC_max*N1/N3\n",
    "\n",
    "print(\"IN2_DC_max = \", IN2_DC_max*1E3, \"mA\")\n",
    "print(\"IN3_DC_max = \", IN3_DC_max*1E3, \"mA\")"
   ]
  },
  {
   "attachments": {},
   "cell_type": "markdown",
   "metadata": {},
   "source": [
    "***Snubber***\n",
    "$$V_{DS} > V_{C_{SN}} > V_d + V_{o}\\frac{N1}{N2}$$"
   ]
  },
  {
   "attachments": {},
   "cell_type": "markdown",
   "metadata": {},
   "source": [
    "$$C_{snubber} > \\frac{L_{disp}*I_{L_{disp}}}{V_{sw_{max}^2 - (V_{d} + V_o \\frac{N1}{N2})^2}}$$"
   ]
  },
  {
   "attachments": {},
   "cell_type": "markdown",
   "metadata": {},
   "source": [
    "$$R_{snubber} < \\frac{T_{ON_{min}}}{3C_{snubber}} = \\frac{D_{min}Ts}{3C_{snubber}}$$"
   ]
  },
  {
   "cell_type": "code",
   "execution_count": 9,
   "metadata": {},
   "outputs": [
    {
     "name": "stdout",
     "output_type": "stream",
     "text": [
      "Csn_min =  3.692839914747128 nF\n",
      "Csn =  4.7 nF\n",
      "Rsn_max =  47.28132387706856 ohm\n"
     ]
    }
   ],
   "source": [
    "#Estimacion de Ldisp REVISAR\n",
    "L1 = Al*N1**2\n",
    "Ldisp = 0.1*L1\n",
    "ILdisp = IN1_DC_max+Vd*0.5*Ts/Ldisp\n",
    "\n",
    "Vsw_max = 900\n",
    "\n",
    "Csn_min = Ldisp*ILdisp/(Vsw_max**2 - (Vd+Vo2*N1/N2)**2)\n",
    "print(\"Csn_min = \", Csn_min*1E9, \"nF\")\n",
    "Csn = 4.7E-9\n",
    "print(\"Csn = \", Csn*1E9, \"nF\")\n",
    "#Ahora para Rsn\n",
    "Dmin = 0.05\n",
    "Rsn_max = Dmin*Ts/(3*Csn)\n",
    "print(\"Rsn_max = \", Rsn_max, \"ohm\")"
   ]
  }
 ],
 "metadata": {
  "kernelspec": {
   "display_name": "Python 3",
   "language": "python",
   "name": "python3"
  },
  "language_info": {
   "codemirror_mode": {
    "name": "ipython",
    "version": 3
   },
   "file_extension": ".py",
   "mimetype": "text/x-python",
   "name": "python",
   "nbconvert_exporter": "python",
   "pygments_lexer": "ipython3",
   "version": "3.11.2"
  },
  "orig_nbformat": 4
 },
 "nbformat": 4,
 "nbformat_minor": 2
}
